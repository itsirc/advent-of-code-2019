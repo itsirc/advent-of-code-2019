{
 "cells": [
  {
   "cell_type": "code",
   "execution_count": 1,
   "metadata": {},
   "outputs": [],
   "source": [
    "def get_input(fname=\"input.txt\"):\n",
    "    with open(fname) as f:\n",
    "        return [int(n) for n in f.readline().strip().split(\",\")]"
   ]
  },
  {
   "cell_type": "code",
   "execution_count": 2,
   "metadata": {},
   "outputs": [],
   "source": [
    "instructions = get_input()"
   ]
  },
  {
   "cell_type": "code",
   "execution_count": 3,
   "metadata": {},
   "outputs": [
    {
     "data": {
      "text/plain": [
       "[3, 225, 1, 225, 6]"
      ]
     },
     "execution_count": 3,
     "metadata": {},
     "output_type": "execute_result"
    }
   ],
   "source": [
    "instructions[:5]"
   ]
  },
  {
   "cell_type": "code",
   "execution_count": 4,
   "metadata": {},
   "outputs": [
    {
     "data": {
      "text/plain": [
       "[223, 4, 223, 99, 226]"
      ]
     },
     "execution_count": 4,
     "metadata": {},
     "output_type": "execute_result"
    }
   ],
   "source": [
    "instructions[-5:]"
   ]
  },
  {
   "cell_type": "code",
   "execution_count": 5,
   "metadata": {},
   "outputs": [],
   "source": [
    "def run(instructions, inp):\n",
    "    instructions = instructions[:]\n",
    "    outputs = []\n",
    "    idx = 0\n",
    "    while True:\n",
    "        opcode = instructions[idx]\n",
    "        op = opcode % 100\n",
    "        opcode //= 100\n",
    "        if op == 99: # halt\n",
    "            break\n",
    "        elif op in (1, 2): # addition, multiplication\n",
    "            modes = []\n",
    "            for i in range(3):\n",
    "                modes.append(opcode % 10)\n",
    "                opcode //= 10\n",
    "            idx_a, idx_b, idx_o = idx + 1, idx + 2, idx + 3\n",
    "            mode_a, mode_b, mode_o = modes\n",
    "            a = instructions[idx_a]\n",
    "            if mode_a == 0:\n",
    "                a = instructions[a]\n",
    "            b = instructions[idx_b]\n",
    "            if mode_b == 0:\n",
    "                b = instructions[b]\n",
    "            o = instructions[idx_o]\n",
    "            res = a + b if op == 1 else a * b\n",
    "            instructions[o] = res\n",
    "            idx += 4\n",
    "        elif op == 3: # read input\n",
    "            instructions[instructions[idx + 1]] = inp\n",
    "            idx += 2\n",
    "        elif op == 4: # write output\n",
    "            outputs.append(instructions[instructions[idx + 1]])\n",
    "            idx += 2\n",
    "    return outputs"
   ]
  },
  {
   "cell_type": "code",
   "execution_count": 6,
   "metadata": {},
   "outputs": [
    {
     "data": {
      "text/plain": [
       "[3, 0, 0, 0, 0, 0, 0, 0, 0, 16348437]"
      ]
     },
     "execution_count": 6,
     "metadata": {},
     "output_type": "execute_result"
    }
   ],
   "source": [
    "run(instructions, 1)"
   ]
  },
  {
   "cell_type": "code",
   "execution_count": 7,
   "metadata": {},
   "outputs": [],
   "source": [
    "def run2(instructions, inp):\n",
    "    instructions = instructions[:]\n",
    "    outputs = []\n",
    "    idx = 0\n",
    "    while True:\n",
    "        opcode = instructions[idx]\n",
    "        op = opcode % 100\n",
    "        opcode //= 100\n",
    "        if op == 99: # halt\n",
    "            break\n",
    "        elif op in (1, 2, 7, 8): # addition, multiplication, less than, equals\n",
    "            modes = []\n",
    "            for i in range(3):\n",
    "                modes.append(opcode % 10)\n",
    "                opcode //= 10\n",
    "            idx_a, idx_b, idx_o = idx + 1, idx + 2, idx + 3\n",
    "            mode_a, mode_b, mode_o = modes\n",
    "            a = instructions[idx_a]\n",
    "            if mode_a == 0:\n",
    "                a = instructions[a]\n",
    "            b = instructions[idx_b]\n",
    "            if mode_b == 0:\n",
    "                b = instructions[b]\n",
    "            o = instructions[idx_o]\n",
    "            if op in (1, 2): # addition, multiplication\n",
    "                res = a + b if op == 1 else a * b\n",
    "            elif op == 7:\n",
    "                res = int(a < b)\n",
    "            elif op == 8:\n",
    "                res = int(a == b)\n",
    "            instructions[o] = res\n",
    "            idx += 4\n",
    "        elif op in (5, 6): # jump if true / false\n",
    "            modes = []\n",
    "            for i in range(2):\n",
    "                modes.append(opcode % 10)\n",
    "                opcode //= 10\n",
    "            idx_a, idx_b = idx + 1, idx + 2\n",
    "            mode_a, mode_b = modes\n",
    "            a = instructions[idx_a]\n",
    "            if mode_a == 0:\n",
    "                a = instructions[a]\n",
    "            b = instructions[idx_b]\n",
    "            if mode_b == 0:\n",
    "                b = instructions[b]\n",
    "            if op == 5:\n",
    "                if a != 0:\n",
    "                    idx = b\n",
    "                else:\n",
    "                    idx += 3\n",
    "            elif op == 6:\n",
    "                if a == 0:\n",
    "                    idx = b\n",
    "                else:\n",
    "                    idx += 3\n",
    "        elif op == 3: # read input\n",
    "            instructions[instructions[idx + 1]] = inp\n",
    "            idx += 2\n",
    "        elif op == 4: # write output\n",
    "            outputs.append(instructions[instructions[idx + 1]])\n",
    "            idx += 2\n",
    "    return outputs"
   ]
  },
  {
   "cell_type": "code",
   "execution_count": 8,
   "metadata": {},
   "outputs": [
    {
     "data": {
      "text/plain": [
       "[6959377]"
      ]
     },
     "execution_count": 8,
     "metadata": {},
     "output_type": "execute_result"
    }
   ],
   "source": [
    "run2(instructions, 5)"
   ]
  },
  {
   "cell_type": "code",
   "execution_count": null,
   "metadata": {},
   "outputs": [],
   "source": []
  }
 ],
 "metadata": {
  "kernelspec": {
   "display_name": "Python 3",
   "language": "python",
   "name": "python3"
  },
  "language_info": {
   "codemirror_mode": {
    "name": "ipython",
    "version": 3
   },
   "file_extension": ".py",
   "mimetype": "text/x-python",
   "name": "python",
   "nbconvert_exporter": "python",
   "pygments_lexer": "ipython3",
   "version": "3.7.3"
  }
 },
 "nbformat": 4,
 "nbformat_minor": 2
}
