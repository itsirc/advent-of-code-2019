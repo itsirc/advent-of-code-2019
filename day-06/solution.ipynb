{
 "cells": [
  {
   "cell_type": "code",
   "execution_count": 1,
   "metadata": {},
   "outputs": [],
   "source": [
    "def get_input(fname=\"input.txt\"):\n",
    "    with open(fname) as f:\n",
    "        return [line.strip().split(\")\") for line in f.readlines()]"
   ]
  },
  {
   "cell_type": "code",
   "execution_count": 2,
   "metadata": {},
   "outputs": [],
   "source": [
    "test_input = get_input(\"test.txt\")"
   ]
  },
  {
   "cell_type": "code",
   "execution_count": 3,
   "metadata": {},
   "outputs": [
    {
     "data": {
      "text/plain": [
       "[['COM', 'B'],\n",
       " ['B', 'C'],\n",
       " ['C', 'D'],\n",
       " ['D', 'E'],\n",
       " ['E', 'F'],\n",
       " ['B', 'G'],\n",
       " ['G', 'H'],\n",
       " ['D', 'I'],\n",
       " ['E', 'J'],\n",
       " ['J', 'K'],\n",
       " ['K', 'L']]"
      ]
     },
     "execution_count": 3,
     "metadata": {},
     "output_type": "execute_result"
    }
   ],
   "source": [
    "test_input"
   ]
  },
  {
   "cell_type": "code",
   "execution_count": 4,
   "metadata": {},
   "outputs": [],
   "source": [
    "class Node(object):\n",
    "    parent = None\n",
    "    children = None\n",
    "    name = None\n",
    "    depth = 0\n",
    "    \n",
    "    def __init__(self, name):\n",
    "        self.name = name\n",
    "        self.children = []\n",
    "    def set_depth(self, depth):\n",
    "        self.depth = depth\n",
    "        for ch in self.children:\n",
    "            ch.set_depth(depth + 1)\n",
    "    def __str__(self):\n",
    "        return \"{}@{} [{}]\".format(self.name, self.depth, \", \".join(str(n) for n in self.children))\n",
    "    def __repr__(self):\n",
    "        return str(self)"
   ]
  },
  {
   "cell_type": "code",
   "execution_count": 5,
   "metadata": {},
   "outputs": [],
   "source": [
    "def get_nodes(inp):\n",
    "    nodes = {}\n",
    "    for a, b in inp:\n",
    "        if a not in nodes:\n",
    "            nodes[a] = Node(a)\n",
    "        if b not in nodes:\n",
    "            nodes[b] = Node(b)\n",
    "        node_a = nodes[a]\n",
    "        node_b = nodes[b]\n",
    "        node_b.parent = node_a\n",
    "        node_a.children.append(node_b)\n",
    "    return nodes"
   ]
  },
  {
   "cell_type": "code",
   "execution_count": 6,
   "metadata": {},
   "outputs": [],
   "source": [
    "test_nodes = get_nodes(test_input)"
   ]
  },
  {
   "cell_type": "code",
   "execution_count": 7,
   "metadata": {},
   "outputs": [],
   "source": [
    "test_nodes['COM'].set_depth(0)"
   ]
  },
  {
   "cell_type": "code",
   "execution_count": 8,
   "metadata": {},
   "outputs": [
    {
     "data": {
      "text/plain": [
       "{'COM': COM@0 [B@1 [C@2 [D@3 [E@4 [F@5 [], J@5 [K@6 [L@7 []]]], I@4 []]], G@2 [H@3 []]]],\n",
       " 'B': B@1 [C@2 [D@3 [E@4 [F@5 [], J@5 [K@6 [L@7 []]]], I@4 []]], G@2 [H@3 []]],\n",
       " 'C': C@2 [D@3 [E@4 [F@5 [], J@5 [K@6 [L@7 []]]], I@4 []]],\n",
       " 'D': D@3 [E@4 [F@5 [], J@5 [K@6 [L@7 []]]], I@4 []],\n",
       " 'E': E@4 [F@5 [], J@5 [K@6 [L@7 []]]],\n",
       " 'F': F@5 [],\n",
       " 'G': G@2 [H@3 []],\n",
       " 'H': H@3 [],\n",
       " 'I': I@4 [],\n",
       " 'J': J@5 [K@6 [L@7 []]],\n",
       " 'K': K@6 [L@7 []],\n",
       " 'L': L@7 []}"
      ]
     },
     "execution_count": 8,
     "metadata": {},
     "output_type": "execute_result"
    }
   ],
   "source": [
    "test_nodes"
   ]
  },
  {
   "cell_type": "code",
   "execution_count": 9,
   "metadata": {},
   "outputs": [
    {
     "name": "stdout",
     "output_type": "stream",
     "text": [
      "42\n"
     ]
    }
   ],
   "source": [
    "print(sum(n.depth for n in test_nodes.values()))"
   ]
  },
  {
   "cell_type": "code",
   "execution_count": 10,
   "metadata": {},
   "outputs": [],
   "source": [
    "actual_input = get_input()"
   ]
  },
  {
   "cell_type": "code",
   "execution_count": 11,
   "metadata": {},
   "outputs": [],
   "source": [
    "actual_nodes = get_nodes(actual_input)"
   ]
  },
  {
   "cell_type": "code",
   "execution_count": 12,
   "metadata": {},
   "outputs": [],
   "source": [
    "root = [n for n in actual_nodes.values() if n.parent is None][0]"
   ]
  },
  {
   "cell_type": "code",
   "execution_count": 13,
   "metadata": {},
   "outputs": [],
   "source": [
    "root.set_depth(0)"
   ]
  },
  {
   "cell_type": "code",
   "execution_count": 14,
   "metadata": {},
   "outputs": [
    {
     "name": "stdout",
     "output_type": "stream",
     "text": [
      "249308\n"
     ]
    }
   ],
   "source": [
    "print(sum(n.depth for n in actual_nodes.values()))"
   ]
  },
  {
   "cell_type": "code",
   "execution_count": 15,
   "metadata": {},
   "outputs": [],
   "source": [
    "def get_parents(node):\n",
    "    parents = []\n",
    "    parent = node.parent\n",
    "    while parent is not None:\n",
    "        parents.append(parent)\n",
    "        parent = parent.parent\n",
    "    return parents"
   ]
  },
  {
   "cell_type": "code",
   "execution_count": 16,
   "metadata": {},
   "outputs": [],
   "source": [
    "you_parents = get_parents(actual_nodes['YOU'])\n",
    "san_parents = get_parents(actual_nodes['SAN'])"
   ]
  },
  {
   "cell_type": "code",
   "execution_count": 17,
   "metadata": {},
   "outputs": [],
   "source": [
    "common_root = sorted(set(you_parents) & set(san_parents), key=lambda n: n.depth, reverse=True)[0]"
   ]
  },
  {
   "cell_type": "code",
   "execution_count": 18,
   "metadata": {},
   "outputs": [
    {
     "data": {
      "text/plain": [
       "'WYH'"
      ]
     },
     "execution_count": 18,
     "metadata": {},
     "output_type": "execute_result"
    }
   ],
   "source": [
    "common_root.name"
   ]
  },
  {
   "cell_type": "code",
   "execution_count": 19,
   "metadata": {},
   "outputs": [
    {
     "name": "stdout",
     "output_type": "stream",
     "text": [
      "349\n"
     ]
    }
   ],
   "source": [
    "print((actual_nodes['YOU'].parent.depth - common_root.depth) + (actual_nodes['SAN'].parent.depth - common_root.depth))"
   ]
  },
  {
   "cell_type": "code",
   "execution_count": null,
   "metadata": {},
   "outputs": [],
   "source": []
  }
 ],
 "metadata": {
  "kernelspec": {
   "display_name": "Python 3",
   "language": "python",
   "name": "python3"
  },
  "language_info": {
   "codemirror_mode": {
    "name": "ipython",
    "version": 3
   },
   "file_extension": ".py",
   "mimetype": "text/x-python",
   "name": "python",
   "nbconvert_exporter": "python",
   "pygments_lexer": "ipython3",
   "version": "3.7.3"
  }
 },
 "nbformat": 4,
 "nbformat_minor": 2
}
