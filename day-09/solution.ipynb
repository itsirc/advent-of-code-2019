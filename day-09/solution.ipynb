{
 "cells": [
  {
   "cell_type": "code",
   "execution_count": 1,
   "metadata": {},
   "outputs": [],
   "source": [
    "def get_input(fname=\"input.txt\"):\n",
    "    with open(fname) as f:\n",
    "        return [int(n) for n in f.readline().strip().split(\",\")]"
   ]
  },
  {
   "cell_type": "code",
   "execution_count": 2,
   "metadata": {},
   "outputs": [],
   "source": [
    "test_instructions = get_input(\"test.txt\")"
   ]
  },
  {
   "cell_type": "code",
   "execution_count": 3,
   "metadata": {},
   "outputs": [
    {
     "data": {
      "text/plain": [
       "[109, 1, 204, -1, 1001]"
      ]
     },
     "execution_count": 3,
     "metadata": {},
     "output_type": "execute_result"
    }
   ],
   "source": [
    "test_instructions[:5]"
   ]
  },
  {
   "cell_type": "code",
   "execution_count": 4,
   "metadata": {},
   "outputs": [
    {
     "data": {
      "text/plain": [
       "[101, 1006, 101, 0, 99]"
      ]
     },
     "execution_count": 4,
     "metadata": {},
     "output_type": "execute_result"
    }
   ],
   "source": [
    "test_instructions[-5:]"
   ]
  },
  {
   "cell_type": "code",
   "execution_count": 5,
   "metadata": {},
   "outputs": [],
   "source": [
    "import itertools"
   ]
  },
  {
   "cell_type": "code",
   "execution_count": 6,
   "metadata": {},
   "outputs": [],
   "source": [
    "class Program(object):\n",
    "    instructions = None\n",
    "    input = None\n",
    "    output = None\n",
    "    is_halted = False\n",
    "    idx = 0\n",
    "    relative_base = 0\n",
    "    \n",
    "    STOPPED = -1\n",
    "    NEEDS_INPUT = -2\n",
    "    \n",
    "    def __init__(self, instructions, input, output):\n",
    "        self.instructions = {i: v for i, v in enumerate(instructions)}\n",
    "        self.input = input\n",
    "        self.output = output\n",
    "    \n",
    "    def _get_address(self, pos, mode=1):\n",
    "        if mode == 0:\n",
    "            return self.instructions.get(pos, 0)\n",
    "        elif mode == 2:\n",
    "            return self.instructions.get(pos, 0) + self.relative_base\n",
    "    \n",
    "    def _get_value(self, pos, mode=1):\n",
    "        v = self.instructions.get(pos, 0)\n",
    "        if mode == 0:\n",
    "            v = self.instructions.get(v, 0)\n",
    "        elif mode == 2:\n",
    "            v = self.instructions.get(v + self.relative_base)\n",
    "        return v\n",
    "    \n",
    "    def step(self):\n",
    "        if self.is_halted:\n",
    "            return Program.STOPPED\n",
    "        opcode = self.instructions.get(self.idx, 0)\n",
    "        op = opcode % 100\n",
    "        opcode //= 100\n",
    "        if op == 99: # halt\n",
    "            self.is_halted = True\n",
    "            return Program.STOPPED\n",
    "        elif op == 9: # set relative base\n",
    "            mode = opcode % 10\n",
    "            v = self._get_value(self.idx + 1, mode)\n",
    "            self.relative_base += v\n",
    "            self.idx += 2\n",
    "        elif op in (1, 2, 7, 8): # addition, multiplication, less than, equals\n",
    "            modes = []\n",
    "            for i in range(3):\n",
    "                modes.append(opcode % 10)\n",
    "                opcode //= 10\n",
    "            idx_a, idx_b, idx_o = self.idx + 1, self.idx + 2, self.idx + 3\n",
    "            mode_a, mode_b, mode_o = modes\n",
    "            a = self._get_value(idx_a, mode_a)\n",
    "            b = self._get_value(idx_b, mode_b)\n",
    "            o = self._get_address(idx_o, mode_o)\n",
    "            if op in (1, 2): # addition, multiplication\n",
    "                res = a + b if op == 1 else a * b\n",
    "            elif op == 7:\n",
    "                res = int(a < b)\n",
    "            elif op == 8:\n",
    "                res = int(a == b)\n",
    "            self.instructions[o] = res\n",
    "            self.idx += 4\n",
    "        elif op in (5, 6): # jump if true / false\n",
    "            modes = []\n",
    "            for i in range(2):\n",
    "                modes.append(opcode % 10)\n",
    "                opcode //= 10\n",
    "            idx_a, idx_b = self.idx + 1, self.idx + 2\n",
    "            mode_a, mode_b = modes\n",
    "            a = self._get_value(idx_a, mode_a)\n",
    "            b = self._get_value(idx_b, mode_b)\n",
    "            if op == 5:\n",
    "                if a != 0:\n",
    "                    self.idx = b\n",
    "                else:\n",
    "                    self.idx += 3\n",
    "            elif op == 6:\n",
    "                if a == 0:\n",
    "                    self.idx = b\n",
    "                else:\n",
    "                    self.idx += 3\n",
    "        elif op == 3: # read input\n",
    "            if len(self.input) == 0:\n",
    "                return Program.NEEDS_INPUT\n",
    "            mode = opcode % 10\n",
    "            self.instructions[self._get_address(self.idx + 1, mode)] = self.input.popleft()\n",
    "            self.idx += 2\n",
    "        elif op == 4: # write output\n",
    "            mode = opcode % 10\n",
    "            output = self._get_value(self.idx + 1, mode)\n",
    "            self.output.append(output)\n",
    "            self.idx += 2\n",
    "    "
   ]
  },
  {
   "cell_type": "code",
   "execution_count": 7,
   "metadata": {},
   "outputs": [],
   "source": [
    "from collections import deque"
   ]
  },
  {
   "cell_type": "code",
   "execution_count": 8,
   "metadata": {},
   "outputs": [],
   "source": [
    "p = Program(test_instructions, deque(), deque())"
   ]
  },
  {
   "cell_type": "code",
   "execution_count": 9,
   "metadata": {},
   "outputs": [],
   "source": [
    "while p.step() not in (Program.STOPPED, Program.NEEDS_INPUT): pass"
   ]
  },
  {
   "cell_type": "code",
   "execution_count": 10,
   "metadata": {},
   "outputs": [
    {
     "data": {
      "text/plain": [
       "deque([109,\n",
       "       1,\n",
       "       204,\n",
       "       -1,\n",
       "       1001,\n",
       "       100,\n",
       "       1,\n",
       "       100,\n",
       "       1008,\n",
       "       100,\n",
       "       16,\n",
       "       101,\n",
       "       1006,\n",
       "       101,\n",
       "       0,\n",
       "       99])"
      ]
     },
     "execution_count": 10,
     "metadata": {},
     "output_type": "execute_result"
    }
   ],
   "source": [
    "p.output"
   ]
  },
  {
   "cell_type": "code",
   "execution_count": 11,
   "metadata": {},
   "outputs": [
    {
     "data": {
      "text/plain": [
       "deque([1219070632396864])"
      ]
     },
     "execution_count": 11,
     "metadata": {},
     "output_type": "execute_result"
    }
   ],
   "source": [
    "p = Program(get_input(\"test2.txt\"), deque(), deque())\n",
    "while p.step() not in (Program.STOPPED, Program.NEEDS_INPUT): pass\n",
    "p.output"
   ]
  },
  {
   "cell_type": "code",
   "execution_count": 12,
   "metadata": {},
   "outputs": [
    {
     "data": {
      "text/plain": [
       "deque([1219070632396864])"
      ]
     },
     "execution_count": 12,
     "metadata": {},
     "output_type": "execute_result"
    }
   ],
   "source": [
    "p = Program(get_input(\"test2.txt\"), deque(), deque())\n",
    "while p.step() not in (Program.STOPPED, Program.NEEDS_INPUT): pass\n",
    "p.output"
   ]
  },
  {
   "cell_type": "code",
   "execution_count": 13,
   "metadata": {},
   "outputs": [
    {
     "data": {
      "text/plain": [
       "deque([2890527621])"
      ]
     },
     "execution_count": 13,
     "metadata": {},
     "output_type": "execute_result"
    }
   ],
   "source": [
    "p = Program(get_input(), deque([1]), deque())\n",
    "while p.step() not in (Program.STOPPED, Program.NEEDS_INPUT): pass\n",
    "p.output"
   ]
  },
  {
   "cell_type": "code",
   "execution_count": 14,
   "metadata": {},
   "outputs": [
    {
     "data": {
      "text/plain": [
       "deque([66772])"
      ]
     },
     "execution_count": 14,
     "metadata": {},
     "output_type": "execute_result"
    }
   ],
   "source": [
    "p = Program(get_input(), deque([2]), deque())\n",
    "while p.step() not in (Program.STOPPED, Program.NEEDS_INPUT): pass\n",
    "p.output"
   ]
  },
  {
   "cell_type": "code",
   "execution_count": null,
   "metadata": {},
   "outputs": [],
   "source": []
  }
 ],
 "metadata": {
  "kernelspec": {
   "display_name": "Python 3",
   "language": "python",
   "name": "python3"
  },
  "language_info": {
   "codemirror_mode": {
    "name": "ipython",
    "version": 3
   },
   "file_extension": ".py",
   "mimetype": "text/x-python",
   "name": "python",
   "nbconvert_exporter": "python",
   "pygments_lexer": "ipython3",
   "version": "3.7.3"
  }
 },
 "nbformat": 4,
 "nbformat_minor": 2
}
