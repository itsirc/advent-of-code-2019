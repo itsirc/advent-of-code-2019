{
 "cells": [
  {
   "cell_type": "code",
   "execution_count": 1,
   "metadata": {},
   "outputs": [],
   "source": [
    "def get_input(fname=\"input.txt\"):\n",
    "    with open(fname) as f:\n",
    "        return [line.strip().split(\",\") for line in f.readlines()]"
   ]
  },
  {
   "cell_type": "code",
   "execution_count": 250,
   "metadata": {},
   "outputs": [],
   "source": [
    "test_inp = get_input(\"test2.txt\")"
   ]
  },
  {
   "cell_type": "code",
   "execution_count": 251,
   "metadata": {},
   "outputs": [
    {
     "data": {
      "text/plain": [
       "[['R75', 'D30', 'R83', 'U83', 'L12', 'D49', 'R71', 'U7', 'L72'],\n",
       " ['U62', 'R66', 'U55', 'R34', 'D71', 'R55', 'D58', 'R83']]"
      ]
     },
     "execution_count": 251,
     "metadata": {},
     "output_type": "execute_result"
    }
   ],
   "source": [
    "test_inp"
   ]
  },
  {
   "cell_type": "code",
   "execution_count": 252,
   "metadata": {},
   "outputs": [],
   "source": [
    "def get_segments(path):\n",
    "    segments = { 'vertical': [], 'horizontal': [] }\n",
    "    cpoint = (0, 0)\n",
    "    for idx, move in enumerate(path):\n",
    "        direction, length = move[0], int(move[1:])\n",
    "        segment = None\n",
    "        if direction in ('U', 'D'):\n",
    "            m = 1 if direction == 'U' else -1\n",
    "            segment = [cpoint, (cpoint[0], cpoint[1] + m * length)]\n",
    "            distance = abs(segment[1][0] - segment[0][0]) + abs(segment[1][1] - segment[0][1])\n",
    "            segment += [distance, idx]\n",
    "            cpoint = segment[1]\n",
    "            segments['vertical'].append(segment)\n",
    "        else:\n",
    "            m = 1 if direction == 'R' else -1\n",
    "            segment = [cpoint, (cpoint[0] + m * length, cpoint[1])]\n",
    "            distance = abs(segment[1][0] - segment[0][0]) + abs(segment[1][1] - segment[0][1])\n",
    "            segment += [distance, idx]\n",
    "            cpoint = segment[1]\n",
    "            segments['horizontal'].append(segment)\n",
    "    return segments"
   ]
  },
  {
   "cell_type": "code",
   "execution_count": 253,
   "metadata": {},
   "outputs": [],
   "source": [
    "segments = [get_segments(path) for path in test_inp]"
   ]
  },
  {
   "cell_type": "code",
   "execution_count": 254,
   "metadata": {},
   "outputs": [
    {
     "data": {
      "text/plain": [
       "[{'vertical': [[(75, 0), (75, -30), 30, 1],\n",
       "   [(158, -30), (158, 53), 83, 3],\n",
       "   [(146, 53), (146, 4), 49, 5],\n",
       "   [(217, 4), (217, 11), 7, 7]],\n",
       "  'horizontal': [[(0, 0), (75, 0), 75, 0],\n",
       "   [(75, -30), (158, -30), 83, 2],\n",
       "   [(158, 53), (146, 53), 12, 4],\n",
       "   [(146, 4), (217, 4), 71, 6],\n",
       "   [(217, 11), (145, 11), 72, 8]]},\n",
       " {'vertical': [[(0, 0), (0, 62), 62, 0],\n",
       "   [(66, 62), (66, 117), 55, 2],\n",
       "   [(100, 117), (100, 46), 71, 4],\n",
       "   [(155, 46), (155, -12), 58, 6]],\n",
       "  'horizontal': [[(0, 62), (66, 62), 66, 1],\n",
       "   [(66, 117), (100, 117), 34, 3],\n",
       "   [(100, 46), (155, 46), 55, 5],\n",
       "   [(155, -12), (238, -12), 83, 7]]}]"
      ]
     },
     "execution_count": 254,
     "metadata": {},
     "output_type": "execute_result"
    }
   ],
   "source": [
    "segments"
   ]
  },
  {
   "cell_type": "code",
   "execution_count": 255,
   "metadata": {},
   "outputs": [],
   "source": [
    "def find_intersections(path1, path2):\n",
    "    intersections = []\n",
    "    for seg1 in path1['horizontal']:\n",
    "        for seg2 in path2['vertical']:\n",
    "            segment1, distance1, seq1 = sorted(seg1[:2]), seg1[2], seg1[3]\n",
    "            segment2, distance2, seq2 = sorted(seg2[:2]), seg2[2], seg2[3]\n",
    "            if segment2[0][1] <= segment1[0][1] <= segment2[1][1] and segment1[0][0] <= segment2[0][0] <= segment1[1][0]:\n",
    "                intersection = (segment2[0][0], segment1[0][1])\n",
    "                distance1 = 0\n",
    "                distance1 += sum(s[2] for s in path1['horizontal'] if s[3] < seq1)\n",
    "                distance1 += sum(s[2] for s in path1['vertical'] if s[3] < seq1)\n",
    "                distance1 += abs(intersection[0] - seg1[0][0]) + abs(intersection[1] - seg1[0][1])\n",
    "                distance2 = 0\n",
    "                distance2 += sum(s[2] for s in path2['horizontal'] if s[3] < seq2)\n",
    "                distance2 += sum(s[2] for s in path2['vertical'] if s[3] < seq2)\n",
    "                distance2 += abs(intersection[0] - seg2[0][0]) + abs(intersection[1] - seg2[0][1])\n",
    "                intersections.append([intersection, distance1, distance2])\n",
    "    for seg1 in path2['horizontal']:\n",
    "        for seg2 in path1['vertical']:\n",
    "            segment1, distance1, seq1 = sorted(seg1[:2]), seg1[2], seg1[3]\n",
    "            segment2, distance2, seq2 = sorted(seg2[:2]), seg2[2], seg2[3]\n",
    "            if segment2[0][1] <= segment1[0][1] <= segment2[1][1] and segment1[0][0] <= segment2[0][0] <= segment1[1][0]:\n",
    "                intersection = (segment2[0][0], segment1[0][1])\n",
    "                distance1 = 0\n",
    "                distance1 += sum(s[2] for s in path2['horizontal'] if s[3] < seq1)\n",
    "                distance1 += sum(s[2] for s in path2['vertical'] if s[3] < seq1)\n",
    "                distance1 += abs(intersection[0] - seg1[0][0]) + abs(intersection[1] - seg1[0][1])\n",
    "                distance2 = 0\n",
    "                distance2 += sum(s[2] for s in path1['horizontal'] if s[3] < seq2)\n",
    "                distance2 += sum(s[2] for s in path1['vertical'] if s[3] < seq2)\n",
    "                distance2 += abs(intersection[0] - seg2[0][0]) + abs(intersection[1] - seg2[0][1])\n",
    "                intersections.append([intersection, distance1, distance2])\n",
    "    return intersections"
   ]
  },
  {
   "cell_type": "code",
   "execution_count": 256,
   "metadata": {},
   "outputs": [],
   "source": [
    "intersections = find_intersections(*segments)"
   ]
  },
  {
   "cell_type": "code",
   "execution_count": 257,
   "metadata": {},
   "outputs": [
    {
     "data": {
      "text/plain": [
       "[[(0, 0), 0, 0],\n",
       " [(155, 4), 341, 385],\n",
       " [(155, 11), 472, 378],\n",
       " [(146, 46), 334, 290],\n",
       " [(158, -12), 404, 206]]"
      ]
     },
     "execution_count": 257,
     "metadata": {},
     "output_type": "execute_result"
    }
   ],
   "source": [
    "intersections"
   ]
  },
  {
   "cell_type": "code",
   "execution_count": 258,
   "metadata": {},
   "outputs": [],
   "source": [
    "lengths = sorted([(abs(x) + abs(y), d1, d2) for (x, y), d1, d2 in intersections])"
   ]
  },
  {
   "cell_type": "code",
   "execution_count": 259,
   "metadata": {},
   "outputs": [
    {
     "data": {
      "text/plain": [
       "[(0, 0, 0), (159, 341, 385), (166, 472, 378), (170, 404, 206), (192, 334, 290)]"
      ]
     },
     "execution_count": 259,
     "metadata": {},
     "output_type": "execute_result"
    }
   ],
   "source": [
    "lengths"
   ]
  },
  {
   "cell_type": "code",
   "execution_count": 260,
   "metadata": {},
   "outputs": [],
   "source": [
    "lengths = sorted([(d1 + d2, abs(x) + abs(y)) for (x, y), d1, d2 in intersections])"
   ]
  },
  {
   "cell_type": "code",
   "execution_count": 261,
   "metadata": {},
   "outputs": [
    {
     "data": {
      "text/plain": [
       "[(0, 0), (610, 170), (624, 192), (726, 159), (850, 166)]"
      ]
     },
     "execution_count": 261,
     "metadata": {},
     "output_type": "execute_result"
    }
   ],
   "source": [
    "lengths"
   ]
  },
  {
   "cell_type": "code",
   "execution_count": 262,
   "metadata": {},
   "outputs": [],
   "source": [
    "inp = get_input()"
   ]
  },
  {
   "cell_type": "code",
   "execution_count": 263,
   "metadata": {},
   "outputs": [],
   "source": [
    "segments = [get_segments(path) for path in inp]"
   ]
  },
  {
   "cell_type": "code",
   "execution_count": 264,
   "metadata": {},
   "outputs": [
    {
     "data": {
      "text/plain": [
       "[[(994, 0), (994, -213), 213, 1],\n",
       " [(511, -213), (511, -111), 102, 3],\n",
       " [(219, -111), (219, 42), 153, 5]]"
      ]
     },
     "execution_count": 264,
     "metadata": {},
     "output_type": "execute_result"
    }
   ],
   "source": [
    "segments[0]['vertical'][:3]"
   ]
  },
  {
   "cell_type": "code",
   "execution_count": 265,
   "metadata": {},
   "outputs": [],
   "source": [
    "intersections = find_intersections(*segments)"
   ]
  },
  {
   "cell_type": "code",
   "execution_count": 266,
   "metadata": {},
   "outputs": [
    {
     "data": {
      "text/plain": [
       "[[(-556, -44), 4170, 24170],\n",
       " [(-355, -44), 3969, 27163],\n",
       " [(-137, -156), 6399, 23443],\n",
       " [(-248, -156), 6288, 23650],\n",
       " [(-355, -156), 6181, 27275],\n",
       " [(-821, -301), 22614, 4692],\n",
       " [(-838, -301), 22597, 5553],\n",
       " [(-390, -206), 23842, 6096]]"
      ]
     },
     "execution_count": 266,
     "metadata": {},
     "output_type": "execute_result"
    }
   ],
   "source": [
    "intersections"
   ]
  },
  {
   "cell_type": "code",
   "execution_count": 267,
   "metadata": {},
   "outputs": [],
   "source": [
    "lengths = sorted([(abs(x) + abs(y), d1, d2) for (x, y), d1, d2 in intersections])"
   ]
  },
  {
   "cell_type": "code",
   "execution_count": 268,
   "metadata": {},
   "outputs": [
    {
     "data": {
      "text/plain": [
       "[(293, 6399, 23443),\n",
       " (399, 3969, 27163),\n",
       " (404, 6288, 23650),\n",
       " (511, 6181, 27275),\n",
       " (596, 23842, 6096),\n",
       " (600, 4170, 24170),\n",
       " (1122, 22614, 4692),\n",
       " (1139, 22597, 5553)]"
      ]
     },
     "execution_count": 268,
     "metadata": {},
     "output_type": "execute_result"
    }
   ],
   "source": [
    "lengths[:10]"
   ]
  },
  {
   "cell_type": "code",
   "execution_count": 269,
   "metadata": {},
   "outputs": [],
   "source": [
    "lengths = sorted([(d1 + d2, abs(x) + abs(y)) for (x, y), d1, d2 in intersections])"
   ]
  },
  {
   "cell_type": "code",
   "execution_count": 270,
   "metadata": {},
   "outputs": [
    {
     "data": {
      "text/plain": [
       "[(27306, 1122),\n",
       " (28150, 1139),\n",
       " (28340, 600),\n",
       " (29842, 293),\n",
       " (29938, 404),\n",
       " (29938, 596),\n",
       " (31132, 399),\n",
       " (33456, 511)]"
      ]
     },
     "execution_count": 270,
     "metadata": {},
     "output_type": "execute_result"
    }
   ],
   "source": [
    "lengths"
   ]
  },
  {
   "cell_type": "code",
   "execution_count": null,
   "metadata": {},
   "outputs": [],
   "source": []
  }
 ],
 "metadata": {
  "kernelspec": {
   "display_name": "Python 3",
   "language": "python",
   "name": "python3"
  },
  "language_info": {
   "codemirror_mode": {
    "name": "ipython",
    "version": 3
   },
   "file_extension": ".py",
   "mimetype": "text/x-python",
   "name": "python",
   "nbconvert_exporter": "python",
   "pygments_lexer": "ipython3",
   "version": "3.7.3"
  }
 },
 "nbformat": 4,
 "nbformat_minor": 2
}
