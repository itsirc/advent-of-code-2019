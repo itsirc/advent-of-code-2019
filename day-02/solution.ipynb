{
 "cells": [
  {
   "cell_type": "code",
   "execution_count": 1,
   "metadata": {},
   "outputs": [],
   "source": [
    "def get_input(fname):\n",
    "    with open(fname) as f:\n",
    "        return [int(n) for n in f.readline().strip().split(\",\")]"
   ]
  },
  {
   "cell_type": "code",
   "execution_count": 2,
   "metadata": {},
   "outputs": [
    {
     "data": {
      "text/plain": [
       "[1, 0, 0, 3]"
      ]
     },
     "execution_count": 2,
     "metadata": {},
     "output_type": "execute_result"
    }
   ],
   "source": [
    "get_input(\"input.txt\")[:4]"
   ]
  },
  {
   "cell_type": "code",
   "execution_count": 3,
   "metadata": {},
   "outputs": [],
   "source": [
    "inp = get_input(\"input.txt\")"
   ]
  },
  {
   "cell_type": "code",
   "execution_count": 5,
   "metadata": {},
   "outputs": [
    {
     "data": {
      "text/plain": [
       "[2, 0, 14, 0]"
      ]
     },
     "execution_count": 5,
     "metadata": {},
     "output_type": "execute_result"
    }
   ],
   "source": [
    "inp[-4:]"
   ]
  },
  {
   "cell_type": "code",
   "execution_count": 23,
   "metadata": {},
   "outputs": [],
   "source": [
    "def process(inp):\n",
    "    inp = inp[::]\n",
    "    idx = 0\n",
    "    while idx < len(inp):\n",
    "        if inp[idx] == 99:\n",
    "            break\n",
    "        elif inp[idx] not in (1, 2):\n",
    "            continue\n",
    "        else:\n",
    "            i1 = inp[idx + 1]\n",
    "            i2 = inp[idx + 2]\n",
    "            dst = inp[idx + 3]\n",
    "            if inp[idx] == 1:\n",
    "                inp[dst] = inp[i1] + inp[i2]\n",
    "            else:\n",
    "                inp[dst] = inp[i1] * inp[i2]\n",
    "            idx += 4\n",
    "    return inp"
   ]
  },
  {
   "cell_type": "code",
   "execution_count": 24,
   "metadata": {},
   "outputs": [],
   "source": [
    "test_inp = get_input(\"test.txt\")"
   ]
  },
  {
   "cell_type": "code",
   "execution_count": 25,
   "metadata": {},
   "outputs": [
    {
     "data": {
      "text/plain": [
       "[30, 1, 1, 4, 2, 5, 6, 0, 99]"
      ]
     },
     "execution_count": 25,
     "metadata": {},
     "output_type": "execute_result"
    }
   ],
   "source": [
    "process(test_inp)"
   ]
  },
  {
   "cell_type": "code",
   "execution_count": 26,
   "metadata": {},
   "outputs": [],
   "source": [
    "inp = get_input(\"input.txt\")\n",
    "inp[1], inp[2] = 12, 2"
   ]
  },
  {
   "cell_type": "code",
   "execution_count": 27,
   "metadata": {},
   "outputs": [
    {
     "name": "stdout",
     "output_type": "stream",
     "text": [
      "5305097\n"
     ]
    }
   ],
   "source": [
    "print(process(inp)[0])"
   ]
  },
  {
   "cell_type": "code",
   "execution_count": 29,
   "metadata": {},
   "outputs": [
    {
     "name": "stdout",
     "output_type": "stream",
     "text": [
      "4925 49 25\n"
     ]
    }
   ],
   "source": [
    "inp = get_input(\"input.txt\")\n",
    "for noun in range(100):\n",
    "    for verb in range(100):\n",
    "        c_inp = inp[::]\n",
    "        c_inp[1], c_inp[2] = noun, verb\n",
    "        outp = process(c_inp)[0]\n",
    "        if outp == 19690720:\n",
    "            print(100 * noun + verb, noun, verb)\n",
    "            break"
   ]
  },
  {
   "cell_type": "code",
   "execution_count": null,
   "metadata": {},
   "outputs": [],
   "source": []
  }
 ],
 "metadata": {
  "kernelspec": {
   "display_name": "Python 3",
   "language": "python",
   "name": "python3"
  },
  "language_info": {
   "codemirror_mode": {
    "name": "ipython",
    "version": 3
   },
   "file_extension": ".py",
   "mimetype": "text/x-python",
   "name": "python",
   "nbconvert_exporter": "python",
   "pygments_lexer": "ipython3",
   "version": "3.7.3"
  }
 },
 "nbformat": 4,
 "nbformat_minor": 2
}
