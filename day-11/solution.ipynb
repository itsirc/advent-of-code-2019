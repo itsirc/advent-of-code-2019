{
 "cells": [
  {
   "cell_type": "code",
   "execution_count": 1,
   "metadata": {},
   "outputs": [],
   "source": [
    "def get_input(fname=\"input.txt\"):\n",
    "    with open(fname) as f:\n",
    "        return [int(n) for n in f.readline().strip().split(\",\")]"
   ]
  },
  {
   "cell_type": "code",
   "execution_count": 2,
   "metadata": {},
   "outputs": [],
   "source": [
    "class Program(object):\n",
    "    instructions = None\n",
    "    input = None\n",
    "    output = None\n",
    "    is_halted = False\n",
    "    idx = 0\n",
    "    relative_base = 0\n",
    "    \n",
    "    STOPPED = -1\n",
    "    NEEDS_INPUT = -2\n",
    "    \n",
    "    def __init__(self, instructions, input, output):\n",
    "        self.instructions = {i: v for i, v in enumerate(instructions)}\n",
    "        self.input = input\n",
    "        self.output = output\n",
    "    \n",
    "    def _get_address(self, pos, mode=1):\n",
    "        if mode == 0:\n",
    "            return self.instructions.get(pos, 0)\n",
    "        elif mode == 2:\n",
    "            return self.instructions.get(pos, 0) + self.relative_base\n",
    "    \n",
    "    def _get_value(self, pos, mode=1):\n",
    "        v = self.instructions.get(pos, 0)\n",
    "        if mode == 0:\n",
    "            v = self.instructions.get(v, 0)\n",
    "        elif mode == 2:\n",
    "            v = self.instructions.get(v + self.relative_base)\n",
    "        return v\n",
    "    \n",
    "    def step(self):\n",
    "        if self.is_halted:\n",
    "            return Program.STOPPED\n",
    "        opcode = self.instructions.get(self.idx, 0)\n",
    "        op = opcode % 100\n",
    "        opcode //= 100\n",
    "        if op == 99: # halt\n",
    "            self.is_halted = True\n",
    "            return Program.STOPPED\n",
    "        elif op == 9: # set relative base\n",
    "            mode = opcode % 10\n",
    "            v = self._get_value(self.idx + 1, mode)\n",
    "            self.relative_base += v\n",
    "            self.idx += 2\n",
    "        elif op in (1, 2, 7, 8): # addition, multiplication, less than, equals\n",
    "            modes = []\n",
    "            for i in range(3):\n",
    "                modes.append(opcode % 10)\n",
    "                opcode //= 10\n",
    "            idx_a, idx_b, idx_o = self.idx + 1, self.idx + 2, self.idx + 3\n",
    "            mode_a, mode_b, mode_o = modes\n",
    "            a = self._get_value(idx_a, mode_a)\n",
    "            b = self._get_value(idx_b, mode_b)\n",
    "            o = self._get_address(idx_o, mode_o)\n",
    "            if op in (1, 2): # addition, multiplication\n",
    "                res = a + b if op == 1 else a * b\n",
    "            elif op == 7:\n",
    "                res = int(a < b)\n",
    "            elif op == 8:\n",
    "                res = int(a == b)\n",
    "            self.instructions[o] = res\n",
    "            self.idx += 4\n",
    "        elif op in (5, 6): # jump if true / false\n",
    "            modes = []\n",
    "            for i in range(2):\n",
    "                modes.append(opcode % 10)\n",
    "                opcode //= 10\n",
    "            idx_a, idx_b = self.idx + 1, self.idx + 2\n",
    "            mode_a, mode_b = modes\n",
    "            a = self._get_value(idx_a, mode_a)\n",
    "            b = self._get_value(idx_b, mode_b)\n",
    "            if op == 5:\n",
    "                if a != 0:\n",
    "                    self.idx = b\n",
    "                else:\n",
    "                    self.idx += 3\n",
    "            elif op == 6:\n",
    "                if a == 0:\n",
    "                    self.idx = b\n",
    "                else:\n",
    "                    self.idx += 3\n",
    "        elif op == 3: # read input\n",
    "            if len(self.input) == 0:\n",
    "                return Program.NEEDS_INPUT\n",
    "            mode = opcode % 10\n",
    "            self.instructions[self._get_address(self.idx + 1, mode)] = self.input.popleft()\n",
    "            self.idx += 2\n",
    "        elif op == 4: # write output\n",
    "            mode = opcode % 10\n",
    "            output = self._get_value(self.idx + 1, mode)\n",
    "            self.output.append(output)\n",
    "            self.idx += 2\n",
    "    "
   ]
  },
  {
   "cell_type": "code",
   "execution_count": 3,
   "metadata": {},
   "outputs": [],
   "source": [
    "from collections import deque"
   ]
  },
  {
   "cell_type": "code",
   "execution_count": 4,
   "metadata": {},
   "outputs": [],
   "source": [
    "input_q, output_q = deque(), deque()"
   ]
  },
  {
   "cell_type": "code",
   "execution_count": 5,
   "metadata": {},
   "outputs": [],
   "source": [
    "p = Program(get_input(), input_q, output_q)"
   ]
  },
  {
   "cell_type": "code",
   "execution_count": 6,
   "metadata": {},
   "outputs": [],
   "source": [
    "current_position = (0, 0)\n",
    "UP, RIGHT, DOWN, LEFT = list(range(4))\n",
    "current_direction = UP # 0 - UP, 1 - RIGHT, 2 - DOWN, 3 - LEFT"
   ]
  },
  {
   "cell_type": "code",
   "execution_count": 7,
   "metadata": {},
   "outputs": [],
   "source": [
    "def move(position, direction):\n",
    "    if direction == UP:\n",
    "        return (position[0], position[1] - 1)\n",
    "    if direction == RIGHT:\n",
    "        return (position[0] + 1, position[1])\n",
    "    if direction == DOWN:\n",
    "        return (position[0], position[1] + 1)\n",
    "    if direction == LEFT:\n",
    "        return (position[0] - 1, position[1])"
   ]
  },
  {
   "cell_type": "code",
   "execution_count": 8,
   "metadata": {},
   "outputs": [],
   "source": [
    "def get_color_at(colors, position, default=0):\n",
    "    if position[0] not in colors:\n",
    "        colors[position[0]] = {}\n",
    "    if position[1] not in colors[position[0]]:\n",
    "        colors[position[0]][position[1]] = default\n",
    "    return colors[position[0]][position[1]]"
   ]
  },
  {
   "cell_type": "code",
   "execution_count": 9,
   "metadata": {},
   "outputs": [],
   "source": [
    "def set_color_at(colors, position, color):\n",
    "    if position[0] not in colors:\n",
    "        colors[position[0]] = {}\n",
    "    colors[position[0]][position[1]] = color"
   ]
  },
  {
   "cell_type": "code",
   "execution_count": 10,
   "metadata": {},
   "outputs": [],
   "source": [
    "colors = { 0: { 0: 0 }}"
   ]
  },
  {
   "cell_type": "code",
   "execution_count": 11,
   "metadata": {},
   "outputs": [],
   "source": [
    "visited = set()"
   ]
  },
  {
   "cell_type": "code",
   "execution_count": 12,
   "metadata": {},
   "outputs": [],
   "source": [
    "while not p.is_halted:\n",
    "    input_q.append(get_color_at(colors, current_position))\n",
    "    while p.step() not in (Program.STOPPED, Program.NEEDS_INPUT): pass\n",
    "    if not p.is_halted:\n",
    "        visited.add(current_position)\n",
    "        direction_mv = output_q.pop()\n",
    "        if direction_mv == 0:\n",
    "            current_direction = (current_direction - 1) % 4\n",
    "        else:\n",
    "            current_direction = (current_direction + 1) % 4\n",
    "        set_color_at(colors, current_position, output_q.pop())\n",
    "        current_position = move(current_position, current_direction)"
   ]
  },
  {
   "cell_type": "code",
   "execution_count": 13,
   "metadata": {},
   "outputs": [
    {
     "data": {
      "text/plain": [
       "deque([0, 1])"
      ]
     },
     "execution_count": 13,
     "metadata": {},
     "output_type": "execute_result"
    }
   ],
   "source": [
    "output_q"
   ]
  },
  {
   "cell_type": "code",
   "execution_count": 14,
   "metadata": {},
   "outputs": [
    {
     "data": {
      "text/plain": [
       "2322"
      ]
     },
     "execution_count": 14,
     "metadata": {},
     "output_type": "execute_result"
    }
   ],
   "source": [
    "len(visited)"
   ]
  },
  {
   "cell_type": "code",
   "execution_count": 15,
   "metadata": {},
   "outputs": [],
   "source": [
    "input_q, output_q = deque(), deque()"
   ]
  },
  {
   "cell_type": "code",
   "execution_count": 16,
   "metadata": {},
   "outputs": [],
   "source": [
    "p = Program(get_input(), input_q, output_q)"
   ]
  },
  {
   "cell_type": "code",
   "execution_count": 17,
   "metadata": {},
   "outputs": [],
   "source": [
    "colors = { 0: { 0: 1 }}"
   ]
  },
  {
   "cell_type": "code",
   "execution_count": 18,
   "metadata": {},
   "outputs": [],
   "source": [
    "visited = set()"
   ]
  },
  {
   "cell_type": "code",
   "execution_count": 19,
   "metadata": {},
   "outputs": [],
   "source": [
    "while not p.is_halted:\n",
    "    input_q.append(get_color_at(colors, current_position, 1))\n",
    "    while p.step() not in (Program.STOPPED, Program.NEEDS_INPUT): pass\n",
    "    if not p.is_halted:\n",
    "        visited.add(current_position)\n",
    "        direction_mv = output_q.pop()\n",
    "        if direction_mv == 0:\n",
    "            current_direction = (current_direction - 1) % 4\n",
    "        else:\n",
    "            current_direction = (current_direction + 1) % 4\n",
    "        set_color_at(colors, current_position, output_q.pop())\n",
    "        current_position = move(current_position, current_direction)"
   ]
  },
  {
   "cell_type": "code",
   "execution_count": 20,
   "metadata": {},
   "outputs": [],
   "source": [
    "min_x, max_x = min(colors.keys()), max(colors.keys())\n",
    "min_y, max_y = min([k for c in colors.values() for k in c]), max([k for c in colors.values() for k in c])"
   ]
  },
  {
   "cell_type": "code",
   "execution_count": 21,
   "metadata": {},
   "outputs": [
    {
     "data": {
      "text/plain": [
       "(0, 60, 60)"
      ]
     },
     "execution_count": 21,
     "metadata": {},
     "output_type": "execute_result"
    }
   ],
   "source": [
    "min_x, max_x, max_x - min_x"
   ]
  },
  {
   "cell_type": "code",
   "execution_count": 22,
   "metadata": {},
   "outputs": [
    {
     "data": {
      "text/plain": [
       "(-41, 0, 41)"
      ]
     },
     "execution_count": 22,
     "metadata": {},
     "output_type": "execute_result"
    }
   ],
   "source": [
    "min_y, max_y, max_y - min_y"
   ]
  },
  {
   "cell_type": "code",
   "execution_count": 23,
   "metadata": {},
   "outputs": [
    {
     "name": "stdout",
     "output_type": "stream",
     "text": [
      "                                                             \n",
      "                                                             \n",
      "                                                             \n",
      "                                                             \n",
      "                                                             \n",
      "                                                             \n",
      "                                                             \n",
      "                                                             \n",
      "                                                             \n",
      "                                                             \n",
      "                                                             \n",
      "                                                             \n",
      "                                                             \n",
      "                                                             \n",
      "                                                             \n",
      "                                                             \n",
      "                                                             \n",
      "                                                             \n",
      "                                                             \n",
      "                                                             \n",
      "                                                             \n",
      "                                                             \n",
      "                                                             \n",
      "                                                             \n",
      "                                                             \n",
      "                                                             \n",
      "                                                             \n",
      "                                                             \n",
      "                                                             \n",
      "                                                             \n",
      "                                                             \n",
      "                                                             \n",
      "                                                             \n",
      "                                                             \n",
      "                                                             \n",
      "                                                             \n",
      "   ██ █  █  ██  ███  ███   ██   ██  █  █                     \n",
      "    █ █  █ █  █ █  █ █  █ █  █ █  █ █  █                     \n",
      "    █ ████ █  █ █  █ ███  █    █    █  █                     \n",
      "    █ █  █ ████ ███  █  █ █ ██ █    █  █                     \n",
      " █  █ █  █ █  █ █ █  █  █ █  █ █  █ █  █                     \n",
      "  ██  █  █ █  █ █  █ ███   ███  ██   ██                      \n"
     ]
    }
   ],
   "source": [
    "for i in reversed(range(min_y, 1 + max_y)):\n",
    "    for j in reversed(range(min_x, 1 + max_x)):\n",
    "        c = get_color_at(colors, (j, i), 1)\n",
    "        if (j, i) not in visited:\n",
    "            print(' ', end='')\n",
    "        elif c == 1:\n",
    "            print('█', end='')\n",
    "        else:\n",
    "            print(' ', end='')\n",
    "    print()"
   ]
  },
  {
   "cell_type": "code",
   "execution_count": null,
   "metadata": {},
   "outputs": [],
   "source": []
  }
 ],
 "metadata": {
  "kernelspec": {
   "display_name": "Python 3",
   "language": "python",
   "name": "python3"
  },
  "language_info": {
   "codemirror_mode": {
    "name": "ipython",
    "version": 3
   },
   "file_extension": ".py",
   "mimetype": "text/x-python",
   "name": "python",
   "nbconvert_exporter": "python",
   "pygments_lexer": "ipython3",
   "version": "3.7.3"
  }
 },
 "nbformat": 4,
 "nbformat_minor": 2
}
