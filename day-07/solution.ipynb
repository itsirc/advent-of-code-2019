{
 "cells": [
  {
   "cell_type": "code",
   "execution_count": 1,
   "metadata": {},
   "outputs": [],
   "source": [
    "def get_input(fname=\"input.txt\"):\n",
    "    with open(fname) as f:\n",
    "        return [int(n) for n in f.readline().strip().split(\",\")]"
   ]
  },
  {
   "cell_type": "code",
   "execution_count": 2,
   "metadata": {},
   "outputs": [],
   "source": [
    "test_instructions = get_input(\"test.txt\")"
   ]
  },
  {
   "cell_type": "code",
   "execution_count": 3,
   "metadata": {},
   "outputs": [
    {
     "data": {
      "text/plain": [
       "[3, 23, 3, 24, 1002]"
      ]
     },
     "execution_count": 3,
     "metadata": {},
     "output_type": "execute_result"
    }
   ],
   "source": [
    "test_instructions[:5]"
   ]
  },
  {
   "cell_type": "code",
   "execution_count": 4,
   "metadata": {},
   "outputs": [
    {
     "data": {
      "text/plain": [
       "[4, 23, 99, 0, 0]"
      ]
     },
     "execution_count": 4,
     "metadata": {},
     "output_type": "execute_result"
    }
   ],
   "source": [
    "test_instructions[-5:]"
   ]
  },
  {
   "cell_type": "code",
   "execution_count": 5,
   "metadata": {},
   "outputs": [],
   "source": [
    "def run(instructions, inp):\n",
    "    instructions = instructions[:]\n",
    "    outputs = []\n",
    "    idx = 0\n",
    "    while True:\n",
    "        opcode = instructions[idx]\n",
    "        op = opcode % 100\n",
    "        opcode //= 100\n",
    "        if op == 99: # halt\n",
    "            break\n",
    "        elif op in (1, 2, 7, 8): # addition, multiplication, less than, equals\n",
    "            modes = []\n",
    "            for i in range(3):\n",
    "                modes.append(opcode % 10)\n",
    "                opcode //= 10\n",
    "            idx_a, idx_b, idx_o = idx + 1, idx + 2, idx + 3\n",
    "            mode_a, mode_b, mode_o = modes\n",
    "            a = instructions[idx_a]\n",
    "            if mode_a == 0:\n",
    "                a = instructions[a]\n",
    "            b = instructions[idx_b]\n",
    "            if mode_b == 0:\n",
    "                b = instructions[b]\n",
    "            o = instructions[idx_o]\n",
    "            if op in (1, 2): # addition, multiplication\n",
    "                res = a + b if op == 1 else a * b\n",
    "            elif op == 7:\n",
    "                res = int(a < b)\n",
    "            elif op == 8:\n",
    "                res = int(a == b)\n",
    "            instructions[o] = res\n",
    "            idx += 4\n",
    "        elif op in (5, 6): # jump if true / false\n",
    "            modes = []\n",
    "            for i in range(2):\n",
    "                modes.append(opcode % 10)\n",
    "                opcode //= 10\n",
    "            idx_a, idx_b = idx + 1, idx + 2\n",
    "            mode_a, mode_b = modes\n",
    "            a = instructions[idx_a]\n",
    "            if mode_a == 0:\n",
    "                a = instructions[a]\n",
    "            b = instructions[idx_b]\n",
    "            if mode_b == 0:\n",
    "                b = instructions[b]\n",
    "            if op == 5:\n",
    "                if a != 0:\n",
    "                    idx = b\n",
    "                else:\n",
    "                    idx += 3\n",
    "            elif op == 6:\n",
    "                if a == 0:\n",
    "                    idx = b\n",
    "                else:\n",
    "                    idx += 3\n",
    "        elif op == 3: # read input\n",
    "            instructions[instructions[idx + 1]] = inp.pop()\n",
    "            idx += 2\n",
    "        elif op == 4: # write output\n",
    "            outputs.append(instructions[instructions[idx + 1]])\n",
    "            idx += 2\n",
    "    return outputs"
   ]
  },
  {
   "cell_type": "code",
   "execution_count": 6,
   "metadata": {},
   "outputs": [
    {
     "data": {
      "text/plain": [
       "[5]"
      ]
     },
     "execution_count": 6,
     "metadata": {},
     "output_type": "execute_result"
    }
   ],
   "source": [
    "run(test_instructions, [0, 0])"
   ]
  },
  {
   "cell_type": "code",
   "execution_count": 7,
   "metadata": {},
   "outputs": [],
   "source": [
    "test_phases = [0,1,2,3,4]\n",
    "test_input = 0"
   ]
  },
  {
   "cell_type": "code",
   "execution_count": 8,
   "metadata": {},
   "outputs": [],
   "source": [
    "for phase in test_phases:\n",
    "    result = run(test_instructions, [test_input, phase])\n",
    "    test_input = result[-1]"
   ]
  },
  {
   "cell_type": "code",
   "execution_count": 9,
   "metadata": {},
   "outputs": [
    {
     "data": {
      "text/plain": [
       "54321"
      ]
     },
     "execution_count": 9,
     "metadata": {},
     "output_type": "execute_result"
    }
   ],
   "source": [
    "test_input"
   ]
  },
  {
   "cell_type": "code",
   "execution_count": 10,
   "metadata": {},
   "outputs": [],
   "source": [
    "actual_input = get_input()"
   ]
  },
  {
   "cell_type": "code",
   "execution_count": 11,
   "metadata": {},
   "outputs": [],
   "source": [
    "from itertools import permutations "
   ]
  },
  {
   "cell_type": "code",
   "execution_count": 12,
   "metadata": {},
   "outputs": [],
   "source": [
    "phase_combinations = list(permutations(range(5)))"
   ]
  },
  {
   "cell_type": "code",
   "execution_count": 13,
   "metadata": {},
   "outputs": [
    {
     "data": {
      "text/plain": [
       "(0, 1, 2, 3, 4)"
      ]
     },
     "execution_count": 13,
     "metadata": {},
     "output_type": "execute_result"
    }
   ],
   "source": [
    "phase_combinations[0]"
   ]
  },
  {
   "cell_type": "code",
   "execution_count": 14,
   "metadata": {},
   "outputs": [
    {
     "data": {
      "text/plain": [
       "(4, 3, 2, 1, 0)"
      ]
     },
     "execution_count": 14,
     "metadata": {},
     "output_type": "execute_result"
    }
   ],
   "source": [
    "phase_combinations[-1]"
   ]
  },
  {
   "cell_type": "code",
   "execution_count": 15,
   "metadata": {},
   "outputs": [],
   "source": [
    "max_output = 0"
   ]
  },
  {
   "cell_type": "code",
   "execution_count": 16,
   "metadata": {},
   "outputs": [],
   "source": [
    "for phases in phase_combinations:\n",
    "    output = 0\n",
    "    for phase in phases:\n",
    "        result = run(actual_input, [output, phase])\n",
    "        output = result[-1]\n",
    "    max_output = max(max_output, output)"
   ]
  },
  {
   "cell_type": "code",
   "execution_count": 17,
   "metadata": {},
   "outputs": [
    {
     "data": {
      "text/plain": [
       "255840"
      ]
     },
     "execution_count": 17,
     "metadata": {},
     "output_type": "execute_result"
    }
   ],
   "source": [
    "max_output"
   ]
  },
  {
   "cell_type": "code",
   "execution_count": 18,
   "metadata": {},
   "outputs": [],
   "source": [
    "import itertools"
   ]
  },
  {
   "cell_type": "code",
   "execution_count": 19,
   "metadata": {},
   "outputs": [],
   "source": [
    "test_input = get_input(\"test2.txt\")"
   ]
  },
  {
   "cell_type": "code",
   "execution_count": 20,
   "metadata": {},
   "outputs": [],
   "source": [
    "class Amplifier(object):\n",
    "    instructions = None\n",
    "    input = None\n",
    "    output = None\n",
    "    outputs = None\n",
    "    is_halted = False\n",
    "    idx = 0\n",
    "    \n",
    "    STOPPED = -1\n",
    "    NEEDS_INPUT = -2\n",
    "    \n",
    "    def __init__(self, instructions, input, output):\n",
    "        self.instructions = instructions[:]\n",
    "        self.input = input\n",
    "        self.output = output\n",
    "        self.outputs = []\n",
    "    \n",
    "    def step(self):\n",
    "        if self.is_halted:\n",
    "            return Amplifier.STOPPED\n",
    "        opcode = self.instructions[self.idx]\n",
    "        op = opcode % 100\n",
    "        opcode //= 100\n",
    "        if op == 99: # halt\n",
    "            self.is_halted = True\n",
    "            return Amplifier.STOPPED\n",
    "        elif op in (1, 2, 7, 8): # addition, multiplication, less than, equals\n",
    "            modes = []\n",
    "            for i in range(3):\n",
    "                modes.append(opcode % 10)\n",
    "                opcode //= 10\n",
    "            idx_a, idx_b, idx_o = self.idx + 1, self.idx + 2, self.idx + 3\n",
    "            mode_a, mode_b, mode_o = modes\n",
    "            a = self.instructions[idx_a]\n",
    "            if mode_a == 0:\n",
    "                a = self.instructions[a]\n",
    "            b = self.instructions[idx_b]\n",
    "            if mode_b == 0:\n",
    "                b = self.instructions[b]\n",
    "            o = self.instructions[idx_o]\n",
    "            if op in (1, 2): # addition, multiplication\n",
    "                res = a + b if op == 1 else a * b\n",
    "            elif op == 7:\n",
    "                res = int(a < b)\n",
    "            elif op == 8:\n",
    "                res = int(a == b)\n",
    "            self.instructions[o] = res\n",
    "            self.idx += 4\n",
    "        elif op in (5, 6): # jump if true / false\n",
    "            modes = []\n",
    "            for i in range(2):\n",
    "                modes.append(opcode % 10)\n",
    "                opcode //= 10\n",
    "            idx_a, idx_b = self.idx + 1, self.idx + 2\n",
    "            mode_a, mode_b = modes\n",
    "            a = self.instructions[idx_a]\n",
    "            if mode_a == 0:\n",
    "                a = self.instructions[a]\n",
    "            b = self.instructions[idx_b]\n",
    "            if mode_b == 0:\n",
    "                b = self.instructions[b]\n",
    "            if op == 5:\n",
    "                if a != 0:\n",
    "                    self.idx = b\n",
    "                else:\n",
    "                    self.idx += 3\n",
    "            elif op == 6:\n",
    "                if a == 0:\n",
    "                    self.idx = b\n",
    "                else:\n",
    "                    self.idx += 3\n",
    "        elif op == 3: # read input\n",
    "            if len(self.input) == 0:\n",
    "                return Amplifier.NEEDS_INPUT\n",
    "            self.instructions[self.instructions[self.idx + 1]] = self.input.popleft()\n",
    "            self.idx += 2\n",
    "        elif op == 4: # write output\n",
    "            output = self.instructions[self.instructions[self.idx + 1]]\n",
    "            self.outputs.append(output)\n",
    "            self.output.append(output)\n",
    "            self.idx += 2\n",
    "    "
   ]
  },
  {
   "cell_type": "code",
   "execution_count": 21,
   "metadata": {},
   "outputs": [],
   "source": [
    "from collections import deque"
   ]
  },
  {
   "cell_type": "code",
   "execution_count": 22,
   "metadata": {},
   "outputs": [],
   "source": [
    "phases = (9,7,8,5,6)\n",
    "queues = [deque([i]) for i in phases]\n",
    "queues[0].append(0)\n",
    "\n",
    "amplifiers = deque([])\n",
    "for i in range(5):\n",
    "    amp = Amplifier(test_input, queues[i % 5], queues[(i + 1) % 5])\n",
    "    amplifiers.append(amp)"
   ]
  },
  {
   "cell_type": "code",
   "execution_count": 23,
   "metadata": {},
   "outputs": [],
   "source": [
    "while not all(amp.is_halted for amp in amplifiers):\n",
    "    amp = amplifiers.popleft()\n",
    "    amplifiers.append(amp)\n",
    "    while amp.step() not in (Amplifier.STOPPED, Amplifier.NEEDS_INPUT): pass\n",
    "#     camp = \n",
    "#     while amplifiers[0]"
   ]
  },
  {
   "cell_type": "code",
   "execution_count": 24,
   "metadata": {},
   "outputs": [
    {
     "data": {
      "text/plain": [
       "deque([18216])"
      ]
     },
     "execution_count": 24,
     "metadata": {},
     "output_type": "execute_result"
    }
   ],
   "source": [
    "queues[0]"
   ]
  },
  {
   "cell_type": "code",
   "execution_count": 25,
   "metadata": {},
   "outputs": [],
   "source": [
    "test_input = get_input(\"test3.txt\")"
   ]
  },
  {
   "cell_type": "code",
   "execution_count": 26,
   "metadata": {},
   "outputs": [],
   "source": [
    "phases = (9,8,7,6,5)\n",
    "queues = [deque([i]) for i in phases]\n",
    "queues[0].append(0)\n",
    "\n",
    "amplifiers = deque([])\n",
    "for i in range(5):\n",
    "    amp = Amplifier(test_input, queues[i % 5], queues[(i + 1) % 5])\n",
    "    amplifiers.append(amp)"
   ]
  },
  {
   "cell_type": "code",
   "execution_count": 27,
   "metadata": {},
   "outputs": [],
   "source": [
    "while not all(amp.is_halted for amp in amplifiers):\n",
    "    amp = amplifiers.popleft()\n",
    "    amplifiers.append(amp)\n",
    "    while amp.step() not in (Amplifier.STOPPED, Amplifier.NEEDS_INPUT): pass"
   ]
  },
  {
   "cell_type": "code",
   "execution_count": 28,
   "metadata": {},
   "outputs": [
    {
     "data": {
      "text/plain": [
       "deque([139629729])"
      ]
     },
     "execution_count": 28,
     "metadata": {},
     "output_type": "execute_result"
    }
   ],
   "source": [
    "queues[0]"
   ]
  },
  {
   "cell_type": "code",
   "execution_count": 29,
   "metadata": {},
   "outputs": [],
   "source": [
    "phase_combinations = list(permutations(range(5, 10)))"
   ]
  },
  {
   "cell_type": "code",
   "execution_count": 30,
   "metadata": {},
   "outputs": [],
   "source": [
    "max_output = 0"
   ]
  },
  {
   "cell_type": "code",
   "execution_count": 31,
   "metadata": {},
   "outputs": [],
   "source": [
    "for phases in phase_combinations:\n",
    "    queues = [deque([i]) for i in phases]\n",
    "    queues[0].append(0)\n",
    "\n",
    "    amplifiers = deque([])\n",
    "    for i in range(5):\n",
    "        amp = Amplifier(actual_input, queues[i % 5], queues[(i + 1) % 5])\n",
    "        amplifiers.append(amp)\n",
    "    while not all(amp.is_halted for amp in amplifiers):\n",
    "        amp = amplifiers.popleft()\n",
    "        amplifiers.append(amp)\n",
    "        while amp.step() not in (Amplifier.STOPPED, Amplifier.NEEDS_INPUT): pass\n",
    "    max_output = max(max_output, queues[0][-1])"
   ]
  },
  {
   "cell_type": "code",
   "execution_count": 32,
   "metadata": {},
   "outputs": [
    {
     "data": {
      "text/plain": [
       "84088865"
      ]
     },
     "execution_count": 32,
     "metadata": {},
     "output_type": "execute_result"
    }
   ],
   "source": [
    "max_output"
   ]
  },
  {
   "cell_type": "code",
   "execution_count": null,
   "metadata": {},
   "outputs": [],
   "source": []
  }
 ],
 "metadata": {
  "kernelspec": {
   "display_name": "Python 3",
   "language": "python",
   "name": "python3"
  },
  "language_info": {
   "codemirror_mode": {
    "name": "ipython",
    "version": 3
   },
   "file_extension": ".py",
   "mimetype": "text/x-python",
   "name": "python",
   "nbconvert_exporter": "python",
   "pygments_lexer": "ipython3",
   "version": "3.7.3"
  }
 },
 "nbformat": 4,
 "nbformat_minor": 2
}
